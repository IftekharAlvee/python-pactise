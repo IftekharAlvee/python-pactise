{
 "cells": [
  {
   "cell_type": "markdown",
   "id": "sought-multimedia",
   "metadata": {},
   "source": [
    "<h1> Assignment: 2 </h1>"
   ]
  },
  {
   "cell_type": "markdown",
   "id": "stable-courtesy",
   "metadata": {},
   "source": [
    "<h3>About Data types</h3>\n",
    "<p><b>What is Data Type?</b></p>\n",
    "<p><b>Ans:</b></p> <p> In computer science and computer programming, \n",
    "    a data type or simply type is an attribute of data which tells the compiler\n",
    "    or interpreter how the programmer intends to use the data.  </p>\n",
    "    \n",
    " \n",
    " <p><b>Describe all Data Types with Example</b><p>\n",
    " <p><b>Ans:</b><p> <p>\n",
    "     Most programming languages support basic data types of\n",
    "     <br>\n",
    "     integer numbers- 25\n",
    "     <br>\n",
    "     floating-point numbers- 0.25 \n",
    "     <br>\n",
    "     characters - \"abcd\"\n",
    "     <br>\n",
    "     and Booleans-true/false\n",
    "</p>"
   ]
  },
  {
   "cell_type": "markdown",
   "id": "searching-insured",
   "metadata": {},
   "source": [
    "<h3>Input and Output</h3>\n",
    "<p><b> Explain each parameter of print(*objects, sep=' ', end='\\n', file=sys.stdout,\n",
    "flush=False) </b></p>\n",
    "\n",
    "<p><b>Ans:</b><p>\n",
    "<p> <b>print() Parameters</b> \n",
    "    <br>\n",
    "objects - object to the printed. * indicates that there may be more than one object\n",
    "    <br>\n",
    "sep - objects are separated by sep. Default value: ' '\n",
    "    <br>\n",
    "end - end is printed at last\n",
    "    <br>\n",
    "file - must be an object with write(string) method. If omitted it, sys.stdout will be used which prints objects on the screen.\n",
    "    <br>\n",
    "flush - If True, the stream is forcibly flushed. Default value: False</p>"
   ]
  },
  {
   "cell_type": "markdown",
   "id": "defined-pride",
   "metadata": {},
   "source": [
    "\n",
    "<h3>Operator</h3>\n",
    "<p><b>What is a python operator? Describe at least three types of operator.</b><p>\n",
    "<p><b>Ans:</b> \n",
    "<br>\n",
    "    Operators are special symbols in Python that carry out arithmetic or logical computation. The value that the operator operates on is called the operand.\n",
    "    <br>\n",
    "    1. Arithmetic operators: Arithmetic operators are used to perform mathematical operations like addition, subtraction, multiplication, etc.\n",
    "    <br>\n",
    "    2. Comparison operators: Comparison operators are used to compare values. It returns either True or False according to the condition.\n",
    "    <br>\n",
    "    3. Logical operators: Logical operators are the and, or, not operators.\n",
    "    <br>\n",
    "    \n",
    "<p>\n",
    "    "
   ]
  },
  {
   "cell_type": "markdown",
   "id": "inside-mauritius",
   "metadata": {},
   "source": [
    "\n",
    "<h3>Problem 1</h3>\n",
    "    \n",
    "<p><b> Define a list with 7 elements and print the 3rd element of the list. </b><p>"
   ]
  },
  {
   "cell_type": "code",
   "execution_count": 1,
   "id": "another-favor",
   "metadata": {},
   "outputs": [
    {
     "name": "stdout",
     "output_type": "stream",
     "text": [
      "3rd element of the list is: 3\n"
     ]
    }
   ],
   "source": [
    "a = [1,2,3,4,5,6,7]\n",
    "print('3rd element of the list is:', a[2] )"
   ]
  },
  {
   "cell_type": "markdown",
   "id": "headed-judgment",
   "metadata": {},
   "source": [
    "<h3>Problem 2 </h3>\n",
    "<p><b>Take two input (say a and b) from user and print three lines where:\n",
    "    <br>\n",
    "1. The first line contains the sum of the two numbers.\n",
    "<br>\n",
    "2. The second line contains the difference of the two numbers (first - second).\n",
    "<br>\n",
    "3. The third line contains the product of the two numbers.\n",
    "<br>\n",
    "Example\n",
    "<br>\n",
    "● a = 3\n",
    "<br>\n",
    "● b = 5\n",
    "<br>\n",
    "Print the following:\n",
    "    <br>\n",
    "● 8\n",
    "<br>\n",
    "● -2\n",
    "<br>\n",
    "● 15</b><p>\n"
   ]
  },
  {
   "cell_type": "code",
   "execution_count": 20,
   "id": "egyptian-magazine",
   "metadata": {},
   "outputs": [
    {
     "name": "stdout",
     "output_type": "stream",
     "text": [
      "5\n",
      "2\n",
      "the sum of the two numbers:  7\n",
      "the difference of the two numbers:  3\n",
      "the product of the two numbers: 10\n"
     ]
    }
   ],
   "source": [
    "\n",
    " first = input();\n",
    " second = input();\n",
    "sum1 = int(first) + int(second);\n",
    "difference = int(first) - int(second);\n",
    "product = int(first)*int(second);\n",
    "print('the sum of the two numbers: ', sum1 );\n",
    "print('the difference of the two numbers: ',difference );\n",
    "print('the product of the two numbers:', product);\n"
   ]
  },
  {
   "cell_type": "markdown",
   "id": "blond-stockholm",
   "metadata": {},
   "source": [
    "\n",
    "<h3>Problem 3</h3>\n",
    "<p><b>Take two inputs (say a and b) from the user and add logic to print two lines. The first line should\n",
    "    <br>\n",
    "contain the result of integer division . The second line should contain the result of float division.\n",
    "    <br>\n",
    "Example\n",
    "    <br>\n",
    "● a = 3\n",
    "    <br>\n",
    "● b = 5\n",
    "    <br>\n",
    "Print the following:\n",
    "    <br>\n",
    "● 0\n",
    "    <br>\n",
    "● 0.6</b><p>"
   ]
  },
  {
   "cell_type": "code",
   "execution_count": 22,
   "id": "referenced-apparatus",
   "metadata": {},
   "outputs": [
    {
     "name": "stdout",
     "output_type": "stream",
     "text": [
      "3\n",
      "5\n",
      " the result of integer division:  0\n",
      "the result of float division:  0.6\n"
     ]
    }
   ],
   "source": [
    "a = input()\n",
    "b = input()\n",
    "result_1 = int(a)//int(b)\n",
    "result_2 = int(a)/int(b)\n",
    "\n",
    "print(' the result of integer division: ',result_1)\n",
    "print('the result of float division: ',result_2)"
   ]
  },
  {
   "cell_type": "markdown",
   "id": "biological-dutch",
   "metadata": {},
   "source": [
    "<h3>Problem 4</h3>\n",
    "<p><b>Write a Python program to display the first and last colors from the\n",
    "    <br>\n",
    "following list color_list = [\"Red\",\"Green\",\"White\" ,\"Black\"]</b><p>"
   ]
  },
  {
   "cell_type": "code",
   "execution_count": 25,
   "id": "advanced-drove",
   "metadata": {},
   "outputs": [
    {
     "name": "stdout",
     "output_type": "stream",
     "text": [
      "First color: Red , Second color: Black\n"
     ]
    }
   ],
   "source": [
    "color_list = [\"Red\",\"Green\",\"White\" ,\"Black\"]\n",
    "print('First color:',color_list[0],', Second color:',color_list[-1]);"
   ]
  },
  {
   "cell_type": "markdown",
   "id": "distributed-gazette",
   "metadata": {},
   "source": [
    "<h3>Problem 5</h3>\n",
    "<p><b>\n",
    "Write a Python program to print the following\n",
    "    <br>\n",
    "Sample string :\n",
    "    <br>\n",
    "\n",
    "a string that you \"don't\" have to escape\n",
    "<br>\n",
    "This\n",
    "<br>\n",
    "is a ....... multi-line\n",
    "<br>\n",
    "heredoc string --------> example\n",
    "</b><p>\n"
   ]
  },
  {
   "cell_type": "code",
   "execution_count": 28,
   "id": "entire-uruguay",
   "metadata": {},
   "outputs": [
    {
     "name": "stdout",
     "output_type": "stream",
     "text": [
      "\n",
      "a string that you \"don't\" have to escape\n",
      "This\n",
      "is a ....... multi-line\n",
      "heredoc string --------> example\n",
      "\n"
     ]
    }
   ],
   "source": [
    "print(\"\"\"\n",
    "a string that you \"don't\" have to escape\n",
    "This\n",
    "is a ....... multi-line\n",
    "heredoc string --------> example\n",
    "\"\"\")"
   ]
  },
  {
   "cell_type": "markdown",
   "id": "thousand-pension",
   "metadata": {},
   "source": [
    "<h3>Problem 6</h3>\n",
    "<p><b>Write a Python program that will accept the base and height of a triangle and\n",
    "    <br>\n",
    "compute the area.</b><p>\n"
   ]
  },
  {
   "cell_type": "code",
   "execution_count": null,
   "id": "needed-serbia",
   "metadata": {},
   "outputs": [],
   "source": [
    "base =input();\n",
    "height = input();\n",
    "base = int(base);\n",
    "height = int(height);\n",
    "area = 0.5*base*height;\n",
    "print('Area of the triangle: ', area );"
   ]
  },
  {
   "cell_type": "markdown",
   "id": "incorporated-thailand",
   "metadata": {},
   "source": [
    "<h3>Problem 7</h3>\n",
    "<p><b>Write a Python program to display your details like name, age, address in three\n",
    "<br>\n",
    "different lines.</b><p>\n"
   ]
  },
  {
   "cell_type": "code",
   "execution_count": null,
   "id": "senior-mercy",
   "metadata": {},
   "outputs": [],
   "source": [
    "name =\"Alvee\"\n",
    "age=\"22\"\n",
    "address =\"Cumilla\"\n",
    "print(name, age, address ,sep='\\n')"
   ]
  },
  {
   "cell_type": "markdown",
   "id": "suitable-sheet",
   "metadata": {},
   "source": [
    "<h3>Problem 8</h3>\n",
    "<p><b>\n",
    "    Python Program for compound interest.\n",
    "    <br>\n",
    "Formula to calculate compound interest annually is given by:\n",
    "    <br>\n",
    "A = P(1 + R/100) t\n",
    "    <br>\n",
    "Compound Interest = A – P\n",
    "    <br>\n",
    "Where,\n",
    "    <br>\n",
    "A is amount\n",
    "    <br>\n",
    "P is principle amount\n",
    "    <br>\n",
    "R is the rate and\n",
    "    <br>\n",
    "T is the time span\n",
    "    </b><p>\n"
   ]
  },
  {
   "cell_type": "code",
   "execution_count": 4,
   "id": "tender-cause",
   "metadata": {},
   "outputs": [
    {
     "name": "stdout",
     "output_type": "stream",
     "text": [
      "10\n",
      "10\n",
      "3\n",
      "Compound Interest 3.310000000000004\n"
     ]
    }
   ],
   "source": [
    "P = input();\n",
    "R = input();\n",
    "t = input();\n",
    "\n",
    "P = int(P);\n",
    "R = int(R);\n",
    "t = int(t);\n",
    "A = P*(1+R/100)**t;\n",
    "c_interest = A-P;\n",
    "print('Compound Interest', c_interest);"
   ]
  },
  {
   "cell_type": "markdown",
   "id": "fleet-sleeve",
   "metadata": {},
   "source": [
    "<h3>Problem 9<h3>\n",
    "<p><b>\n",
    "Print output like this\n",
    "<br>\n",
    "    <center>\n",
    "    * * * * *\n",
    "<br>\n",
    "* * * *\n",
    "<br>\n",
    "* * *\n",
    "<br>\n",
    "* *\n",
    "<br>\n",
    "*\n",
    "    </center>\n",
    "</b><p>\n"
   ]
  },
  {
   "cell_type": "code",
   "execution_count": 5,
   "id": "textile-history",
   "metadata": {},
   "outputs": [
    {
     "name": "stdout",
     "output_type": "stream",
     "text": [
      "\n",
      "* * * * *\n",
      " * * * *\n",
      "  * * *\n",
      "   * *\n",
      "    *\n",
      "\n"
     ]
    }
   ],
   "source": [
    "print(\"\"\"\n",
    "* * * * *\n",
    " * * * *\n",
    "  * * *\n",
    "   * *\n",
    "    *\n",
    "\"\"\")"
   ]
  },
  {
   "cell_type": "markdown",
   "id": "oriented-ranking",
   "metadata": {},
   "source": [
    "<h3>Problem 10</h3>\n",
    "<p><b>\n",
    "Python Program to Convert Celsius To Fahrenheit.\n",
    "<br>\n",
    "Hints : celsius * 1.8 = fahrenheit - 32\n",
    "</b><p>\n",
    "<p><b></b><p>\n"
   ]
  },
  {
   "cell_type": "code",
   "execution_count": 10,
   "id": "instructional-salmon",
   "metadata": {},
   "outputs": [
    {
     "name": "stdout",
     "output_type": "stream",
     "text": [
      "100\n",
      "100 celsius to fahrenheit =  148.0\n"
     ]
    }
   ],
   "source": [
    "celsius = input();\n",
    "celsius = int(celsius);\n",
    "fahrenheit = (celsius*1.8) - 32;\n",
    "print(celsius,'celsius to fahrenheit = ', fahrenheit);"
   ]
  },
  {
   "cell_type": "code",
   "execution_count": null,
   "id": "damaged-williams",
   "metadata": {},
   "outputs": [],
   "source": []
  }
 ],
 "metadata": {
  "kernelspec": {
   "display_name": "Python 3",
   "language": "python",
   "name": "python3"
  },
  "language_info": {
   "codemirror_mode": {
    "name": "ipython",
    "version": 3
   },
   "file_extension": ".py",
   "mimetype": "text/x-python",
   "name": "python",
   "nbconvert_exporter": "python",
   "pygments_lexer": "ipython3",
   "version": "3.9.2"
  }
 },
 "nbformat": 4,
 "nbformat_minor": 5
}
