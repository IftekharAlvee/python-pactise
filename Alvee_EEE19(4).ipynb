{
 "cells": [
  {
   "cell_type": "markdown",
   "id": "short-window",
   "metadata": {},
   "source": [
    "# Assignment 4"
   ]
  },
  {
   "cell_type": "markdown",
   "id": "external-yesterday",
   "metadata": {},
   "source": [
    "### 1. Write a Python program to find those numbers which are divisible by 8 and 3 but multiple of 9, between 1000 and 1800 (both included)."
   ]
  },
  {
   "cell_type": "code",
   "execution_count": 1,
   "id": "governing-culture",
   "metadata": {},
   "outputs": [
    {
     "name": "stdout",
     "output_type": "stream",
     "text": [
      "1015,1050,1085,1120,1155,1190,1225,1260,1295,1330,1365,1400,1435,1470,1505,1540,1575,1610,1645,1680,1715,1750,1785\n"
     ]
    }
   ],
   "source": [
    "a=[]\n",
    "for x in range(1000, 1800):\n",
    "    if (x%7==0) and (x%5==0):\n",
    "        a.append(str(x))\n",
    "print (','.join(a))"
   ]
  },
  {
   "cell_type": "markdown",
   "id": "annoying-night",
   "metadata": {},
   "source": [
    "### 2) touple = ('I','E','E','E','H','S','T','U','S','B')\n",
    "### Using this touple, write a program whose output will be IEEE HSTU SB."
   ]
  },
  {
   "cell_type": "code",
   "execution_count": 38,
   "id": "vietnamese-affect",
   "metadata": {},
   "outputs": [
    {
     "name": "stdout",
     "output_type": "stream",
     "text": [
      "IEEE HSTU SB\n"
     ]
    }
   ],
   "source": [
    "touple = ('I','E','E','E','H','S','T','U','S','B')\n",
    "x =\"\"\n",
    "for a in range(0,4):\n",
    "    x = x + touple[a];\n",
    "y=\"\"\n",
    "for b in range(4,8):\n",
    "    y = y + touple[b];\n",
    "z=\"\"\n",
    "for b in range(8,10):\n",
    "    z = z + touple[b];\n",
    "    \n",
    "print(x,y,z)"
   ]
  },
  {
   "cell_type": "markdown",
   "id": "functional-heater",
   "metadata": {},
   "source": [
    "### 3) Write a Python program to check a triangle is equilateral, isosceles or scalene.\n",
    "        Note :\n",
    "        An equilateral triangle is a triangle in which all three sides are equal.\n",
    "        A scalene triangle is a triangle that has three unequal sides.\n",
    "        An isosceles triangle is a triangle with (at least) two equal sides."
   ]
  },
  {
   "cell_type": "code",
   "execution_count": 1,
   "id": "concrete-korea",
   "metadata": {},
   "outputs": [
    {
     "name": "stdout",
     "output_type": "stream",
     "text": [
      "x=12\n",
      "y=15\n",
      "z=14\n",
      "Scalene triangle\n"
     ]
    }
   ],
   "source": [
    "x = int(input(\"x=\"))\n",
    "y = int(input(\"y=\"))\n",
    "z = int(input(\"z=\"))\n",
    "\n",
    "if x == y == z:\n",
    "    print(\"Equilateral triangle\")\n",
    "elif x==y or y==z or z==x:\n",
    "    print(\"isosceles triangle\")\n",
    "else:\n",
    "    print(\"Scalene triangle\")"
   ]
  },
  {
   "cell_type": "markdown",
   "id": "unavailable-prague",
   "metadata": {},
   "source": [
    "### 4) Write a Python program to create the multiplication table (from 1 to 10) of a number."
   ]
  },
  {
   "cell_type": "code",
   "execution_count": 2,
   "id": "needed-behalf",
   "metadata": {},
   "outputs": [
    {
     "name": "stdout",
     "output_type": "stream",
     "text": [
      "\n",
      "\n",
      "MULTIPLICATION TABLE FOR 1\n",
      "\n",
      "1     X     1 =     1\n",
      "1     X     2 =     2\n",
      "1     X     3 =     3\n",
      "1     X     4 =     4\n",
      "1     X     5 =     5\n",
      "1     X     6 =     6\n",
      "1     X     7 =     7\n",
      "1     X     8 =     8\n",
      "1     X     9 =     9\n",
      "1     X    10 =    10\n",
      "\n",
      "\n",
      "MULTIPLICATION TABLE FOR 2\n",
      "\n",
      "2     X     1 =     2\n",
      "2     X     2 =     4\n",
      "2     X     3 =     6\n",
      "2     X     4 =     8\n",
      "2     X     5 =    10\n",
      "2     X     6 =    12\n",
      "2     X     7 =    14\n",
      "2     X     8 =    16\n",
      "2     X     9 =    18\n",
      "2     X    10 =    20\n",
      "\n",
      "\n",
      "MULTIPLICATION TABLE FOR 3\n",
      "\n",
      "3     X     1 =     3\n",
      "3     X     2 =     6\n",
      "3     X     3 =     9\n",
      "3     X     4 =    12\n",
      "3     X     5 =    15\n",
      "3     X     6 =    18\n",
      "3     X     7 =    21\n",
      "3     X     8 =    24\n",
      "3     X     9 =    27\n",
      "3     X    10 =    30\n",
      "\n",
      "\n",
      "MULTIPLICATION TABLE FOR 4\n",
      "\n",
      "4     X     1 =     4\n",
      "4     X     2 =     8\n",
      "4     X     3 =    12\n",
      "4     X     4 =    16\n",
      "4     X     5 =    20\n",
      "4     X     6 =    24\n",
      "4     X     7 =    28\n",
      "4     X     8 =    32\n",
      "4     X     9 =    36\n",
      "4     X    10 =    40\n",
      "\n",
      "\n",
      "MULTIPLICATION TABLE FOR 5\n",
      "\n",
      "5     X     1 =     5\n",
      "5     X     2 =    10\n",
      "5     X     3 =    15\n",
      "5     X     4 =    20\n",
      "5     X     5 =    25\n",
      "5     X     6 =    30\n",
      "5     X     7 =    35\n",
      "5     X     8 =    40\n",
      "5     X     9 =    45\n",
      "5     X    10 =    50\n",
      "\n",
      "\n",
      "MULTIPLICATION TABLE FOR 6\n",
      "\n",
      "6     X     1 =     6\n",
      "6     X     2 =    12\n",
      "6     X     3 =    18\n",
      "6     X     4 =    24\n",
      "6     X     5 =    30\n",
      "6     X     6 =    36\n",
      "6     X     7 =    42\n",
      "6     X     8 =    48\n",
      "6     X     9 =    54\n",
      "6     X    10 =    60\n",
      "\n",
      "\n",
      "MULTIPLICATION TABLE FOR 7\n",
      "\n",
      "7     X     1 =     7\n",
      "7     X     2 =    14\n",
      "7     X     3 =    21\n",
      "7     X     4 =    28\n",
      "7     X     5 =    35\n",
      "7     X     6 =    42\n",
      "7     X     7 =    49\n",
      "7     X     8 =    56\n",
      "7     X     9 =    63\n",
      "7     X    10 =    70\n",
      "\n",
      "\n",
      "MULTIPLICATION TABLE FOR 8\n",
      "\n",
      "8     X     1 =     8\n",
      "8     X     2 =    16\n",
      "8     X     3 =    24\n",
      "8     X     4 =    32\n",
      "8     X     5 =    40\n",
      "8     X     6 =    48\n",
      "8     X     7 =    56\n",
      "8     X     8 =    64\n",
      "8     X     9 =    72\n",
      "8     X    10 =    80\n",
      "\n",
      "\n",
      "MULTIPLICATION TABLE FOR 9\n",
      "\n",
      "9     X     1 =     9\n",
      "9     X     2 =    18\n",
      "9     X     3 =    27\n",
      "9     X     4 =    36\n",
      "9     X     5 =    45\n",
      "9     X     6 =    54\n",
      "9     X     7 =    63\n",
      "9     X     8 =    72\n",
      "9     X     9 =    81\n",
      "9     X    10 =    90\n",
      "\n",
      "\n",
      "MULTIPLICATION TABLE FOR 10\n",
      "\n",
      "10    X     1 =    10\n",
      "10    X     2 =    20\n",
      "10    X     3 =    30\n",
      "10    X     4 =    40\n",
      "10    X     5 =    50\n",
      "10    X     6 =    60\n",
      "10    X     7 =    70\n",
      "10    X     8 =    80\n",
      "10    X     9 =    90\n",
      "10    X    10 =   100\n"
     ]
    }
   ],
   "source": [
    "\n",
    "for i in range(1,11):\n",
    "    print(\"\\n\\nMULTIPLICATION TABLE FOR %d\\n\" %(i))\n",
    "    for j in range(1,11):\n",
    "        print(\"%-5d X %5d = %5d\" % (i, j, i*j))"
   ]
  },
  {
   "cell_type": "markdown",
   "id": "stable-wales",
   "metadata": {},
   "source": [
    "### 5) Write a python program to check whether a given year is a leap year\n"
   ]
  },
  {
   "cell_type": "code",
   "execution_count": 3,
   "id": "considered-appliance",
   "metadata": {},
   "outputs": [
    {
     "name": "stdout",
     "output_type": "stream",
     "text": [
      "Enter year to be checked: 2058\n",
      "The year isn't a leap year!\n"
     ]
    }
   ],
   "source": [
    "year=int(input(\"Enter year to be checked: \"))\n",
    "if(year%4==0 and year%100!=0 or year%400==0):\n",
    "    print(\"The year is a leap year!\")\n",
    "else:\n",
    "    print(\"The year isn't a leap year!\")"
   ]
  },
  {
   "cell_type": "markdown",
   "id": "worst-stuart",
   "metadata": {},
   "source": [
    "### 6) Write the programs to get the areas of a) triangle, b)Rectangle, c) circle.¶"
   ]
  },
  {
   "cell_type": "markdown",
   "id": "hispanic-devon",
   "metadata": {},
   "source": []
  },
  {
   "cell_type": "code",
   "execution_count": 7,
   "id": "atlantic-alert",
   "metadata": {},
   "outputs": [
    {
     "name": "stdout",
     "output_type": "stream",
     "text": [
      "First side: 14\n",
      "Second side: 15\n",
      "Third side: 16\n",
      "The area of the triangle is 96.56\n"
     ]
    }
   ],
   "source": [
    "x = float(input('First side: '))  \n",
    "y = float(input('Second side: '))  \n",
    "z = float(input('Third side: '))  \n",
    "   \n",
    "s = (x + y + z) / 2  \n",
    "   \n",
    "area = (s*(s-x)*(s-y)*(s-z)) ** 0.5  \n",
    "print('The area of the triangle is %0.2f' %area)   \n"
   ]
  },
  {
   "cell_type": "markdown",
   "id": "bearing-vietnam",
   "metadata": {},
   "source": []
  },
  {
   "cell_type": "code",
   "execution_count": 8,
   "id": "widespread-debut",
   "metadata": {},
   "outputs": [
    {
     "name": "stdout",
     "output_type": "stream",
     "text": [
      "Length4\n",
      "Width5\n",
      "Area 20\n"
     ]
    }
   ],
   "source": [
    "length = int(input(\"Length\"))\n",
    "width = int(input(\"Width\"))\n",
    "area = length * width\n",
    "print(\"Area\", area)"
   ]
  },
  {
   "cell_type": "markdown",
   "id": "virgin-myrtle",
   "metadata": {},
   "source": []
  },
  {
   "cell_type": "code",
   "execution_count": 9,
   "id": "future-battlefield",
   "metadata": {},
   "outputs": [
    {
     "name": "stdout",
     "output_type": "stream",
     "text": [
      "Radius of a circle: 4\n",
      " Area = 50.24\n"
     ]
    }
   ],
   "source": [
    "PI = 3.14\n",
    "radius = float(input('Radius of a circle: '))\n",
    "area = PI * radius * radius\n",
    "print(\" Area = %.2f\" %area)\n"
   ]
  },
  {
   "cell_type": "code",
   "execution_count": null,
   "id": "comparative-cincinnati",
   "metadata": {},
   "outputs": [],
   "source": []
  }
 ],
 "metadata": {
  "kernelspec": {
   "display_name": "Python 3",
   "language": "python",
   "name": "python3"
  },
  "language_info": {
   "codemirror_mode": {
    "name": "ipython",
    "version": 3
   },
   "file_extension": ".py",
   "mimetype": "text/x-python",
   "name": "python",
   "nbconvert_exporter": "python",
   "pygments_lexer": "ipython3",
   "version": "3.9.2"
  }
 },
 "nbformat": 4,
 "nbformat_minor": 5
}
