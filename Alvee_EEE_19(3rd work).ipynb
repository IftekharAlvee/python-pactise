{
 "cells": [
  {
   "cell_type": "markdown",
   "id": "robust-junior",
   "metadata": {},
   "source": [
    "# Assignment 3"
   ]
  },
  {
   "cell_type": "markdown",
   "id": "expanded-diesel",
   "metadata": {},
   "source": [
    "## About Flow Control"
   ]
  },
  {
   "cell_type": "markdown",
   "id": "hindu-shopping",
   "metadata": {},
   "source": [
    "### What is flow control?\n",
    "\n",
    "<b>Ans:</b>  In computer science, control flow (or flow of control) is the order in which individual statements, instructions or function calls of an imperative program are executed or evaluated. The emphasis on explicit control flow distinguishes an imperative programming language from a declarative programming language.\n",
    "\n",
    "### List all flow control with example\n",
    "\n",
    "<b>Ans:</b> \n",
    "There are countless different systems for flow control in programming, but four are by far the most common:\n",
    "\n",
    "#### Conditionals\n",
    "The most basic type of flow control is the humble if statement:\n",
    "<br>\n",
    "x=3\n",
    "<br>\n",
    "if x>10:\n",
    "<br>\n",
    "    print(\"x is big.\")\n",
    "    <br>\n",
    "if x<= 10:\n",
    "<br>\n",
    "    print(\"x is small.\")\n",
    "    <br>\n",
    "These allow the program to make more complicated decisions.\n",
    "\n",
    "If we have opposite conditions, we can use the else statement:\n",
    "<br>\n",
    "x=3\n",
    "<br>\n",
    "if x>10:\n",
    "<br>\n",
    "    print(\"x is big.\")\n",
    "    <br>\n",
    "else:\n",
    "<br>\n",
    "    print(\"x is small.\")\n",
    "    <br>\n",
    "And chain multiple conditions together with elif:\n",
    "<br>\n",
    "x=3\n",
    "<br>\n",
    "if x>10:\n",
    "<br>\n",
    "    print(\"x is big.\")\n",
    "    <br>\n",
    "elif x>0:\n",
    "<br>\n",
    "    print(\"x is small.\")\n",
    "    <br>\n",
    "else:\n",
    "<br>\n",
    "    print(\"x is not positive.\")\n",
    "    <br>\n",
    "    \n",
    "    \n",
    "#### Loops\n",
    "The simplest loop is a while loop. A while loop is given a condition, and executes the loop until the condition is false. (If the condition is false, it does nothing.)\n",
    "\n",
    "\n",
    "\n",
    "<br>\n",
    "example_list = [1,4,9]\n",
    "<br>\n",
    "cube_list = []\n",
    "<br>\n",
    "\n",
    "for value in example_list:\n",
    "<br>\n",
    "    cube_list.append(value**3)\n",
    "<br>\n",
    "print(cube_list)\n",
    "<br>\n",
    "Often, this is enough. However, you often want to iterate a certain number of times.\n",
    "<br>\n",
    "For that, there is the range command:\n",
    "<br>\n",
    "for i in range(5):\n",
    "<br>\n",
    "      print(i)\n",
    "      <br>\n",
    "Note that range(5) provides the first 5 integers, 0-indexed; that is, 0,1,2,3,4.\n",
    "\n",
    "Range accepts optional parameters for starting value and integer step; for example,\n",
    "<br>\n",
    "for i in range(1,10,2):\n",
    "<br>\n",
    "  print(i)\n",
    "  <br>\n",
    "prints 1,3,5,7,9.\n",
    "\n",
    "#### Breaks & Continues\n",
    "We will talk about escaping more in the future, but there are two useful flow control statements within loops:\n",
    "\n",
    "break escapes the current loop, and moves on after it. For example:\n",
    "\n",
    "for i in range(100):\n",
    "<br><br><br><br>\n",
    "  if i==5:\n",
    "  <br><br><br>\n",
    "    break\n",
    "    <br><br>\n",
    "print(i)\n",
    "<br>\n",
    "This is mostly used for searching for particular values - iterating until something happens.\n",
    "\n",
    "It is a better pattern than while loops for high intensity computing because of your easy ability to set an upper limit for loop length. But if the calculation fails, you need a way to determine it: fortunately, for supports an else clause which triggers if and only if the loop exists without hitting a break statement.\n",
    "<br><br><br>\n",
    "for i in range(100):\n",
    "<br><br>\n",
    "  if i==5:\n",
    "  <br>\n",
    "    break\n",
    "    <br>\n",
    "else:\n",
    "<br>\n",
    "  print(\"Unable to find 5.\")\n",
    "  <br>\n",
    "print(i)\n",
    "<br>\n",
    "break only breaks out of the closest loop. There is no way to easily break out of a higher loop just using break.\n",
    "\n",
    "continue works similarly, but instead of escaping the loop, it starts the next iteration immediately:\n",
    "<br>\n",
    "for i in range(10):\n",
    "<br>\n",
    "  if i%3 != i%2:\n",
    "  <br>\n",
    "    continue\n",
    "    <br>\n",
    "  print(i)\n",
    "  <br>\n",
    "This is great for discarding cases, and is a common task in the algorithm\n",
    "\n",
    "#### Functions\n",
    "Functions very much count as flow control.\n",
    "\n",
    "The main two behaviors of functions that control flow are entering and exiting.\n",
    "\n",
    "When you call a function, execution of the parent flow is paused. Until the function executes a return statement - or runs out of things to do - you are within the function's flow.\n",
    "\n",
    "This can be used to escape any number of loops: for example,\n",
    "<br>\n",
    "def find_5():\n",
    "<br>\n",
    "  for i in range(100):\n",
    "  <br>\n",
    "    for j in range(20):\n",
    "   <br> \n",
    "      if i == 5:\n",
    "   <br>\n",
    "        return i\n",
    "   <br>\n",
    "  print(\"Couldn't find 5.\")\n",
    "  <br>\n",
    "would not print its statement; it would find its value and return."
   ]
  },
  {
   "cell_type": "markdown",
   "id": "convertible-custom",
   "metadata": {},
   "source": []
  },
  {
   "cell_type": "markdown",
   "id": "committed-ordering",
   "metadata": {},
   "source": []
  },
  {
   "cell_type": "markdown",
   "id": "comic-aircraft",
   "metadata": {},
   "source": [
    "## Conditional statement"
   ]
  },
  {
   "cell_type": "markdown",
   "id": "infrared-journalism",
   "metadata": {},
   "source": [
    "### What is conditional statement\n",
    "<b>Ans:</b> A conditional statement, symbolized by p q, is an if-then statement in which p is a\n",
    "    hypothesis and q is a conclusion. The logical connector in a conditional statement is denoted by the symbol\n",
    "    . The conditional is defined to be true unless a true hypothesis leads to a false conclusion.\n",
    "    \n",
    "### Describe structure of conditional statement\n",
    "<b>Ans:</b> \n",
    "\n",
    "\n",
    "    \n",
    "    \n",
    "    \n",
    "    \n",
    "    \n",
    "    \n",
    "    \n",
    "    \n",
    "    \n",
    "    \n",
    "    \n",
    "    \n",
    "    \n",
    "    \n",
    "    \n",
    "    \n",
    "    \n",
    "    \n",
    "    "
   ]
  },
  {
   "cell_type": "code",
   "execution_count": null,
   "id": "rubber-yahoo",
   "metadata": {},
   "outputs": [],
   "source": [
    "if(condition):\n",
    "    statement\n",
    "elif(condition):\n",
    "    statement\n",
    "else\n",
    "    statement"
   ]
  },
  {
   "cell_type": "markdown",
   "id": "secure-pakistan",
   "metadata": {},
   "source": [
    "## Problem 1\n",
    "### Take input from a user and check whether the number is odd or even?"
   ]
  },
  {
   "cell_type": "code",
   "execution_count": 1,
   "id": "unlimited-active",
   "metadata": {},
   "outputs": [
    {
     "name": "stdout",
     "output_type": "stream",
     "text": [
      "Enter: 2\n",
      " Even number\n"
     ]
    }
   ],
   "source": [
    "inp = int(input(\"Enter: \"))  \n",
    "if (inp % 2) == 0:  \n",
    "   print(\" Even number\")  \n",
    "else:  \n",
    "   print(\" Odd number\")  \n"
   ]
  },
  {
   "cell_type": "markdown",
   "id": "documented-trade",
   "metadata": {},
   "source": [
    "## Problem 2\n",
    "### Take integer input from user, say a\n",
    "1. Print number of sample, if 100 <= a < 200, and a is divisible by 9\n",
    "2. Display those numbers which are divisible by 7 and multiple of 5, between 500\n",
    "and 100"
   ]
  },
  {
   "cell_type": "code",
   "execution_count": 7,
   "id": "manufactured-administration",
   "metadata": {},
   "outputs": [
    {
     "name": "stdout",
     "output_type": "stream",
     "text": [
      "Enterr: 50\n",
      "This number is not ok\n"
     ]
    }
   ],
   "source": [
    "a = int(input(\"Enterr: \"))\n",
    "if (a >= 100 or a < 200 and a%9 == 0):\n",
    "    print('This number is ok')\n",
    "else:\n",
    "    print('This number is not ok')"
   ]
  },
  {
   "cell_type": "code",
   "execution_count": 8,
   "id": "available-stereo",
   "metadata": {},
   "outputs": [
    {
     "name": "stdout",
     "output_type": "stream",
     "text": [
      "Enter a number: 170\n",
      "This number is not ok\n"
     ]
    }
   ],
   "source": [
    "a = int(input(\"Enter a number: \"))\n",
    "if (100 <= a <= 500 and a%7 == 0 and a%5 ==0):\n",
    "    print('This number is ok')\n",
    "else:\n",
    "    print('This number is not ok')"
   ]
  },
  {
   "cell_type": "markdown",
   "id": "corrected-display",
   "metadata": {},
   "source": [
    "## Problem 3\n",
    "### Take year as a integer input from a user,check whether the year is leap year or not?"
   ]
  },
  {
   "cell_type": "code",
   "execution_count": 10,
   "id": "conditional-roulette",
   "metadata": {},
   "outputs": [
    {
     "name": "stdout",
     "output_type": "stream",
     "text": [
      "Enter your year:2020\n",
      "The year is a leap year\n"
     ]
    }
   ],
   "source": [
    "x = int(input(\"Enter your year:\"))\n",
    "if(x % 4 == 0 and x % 100!=0 or x % 400 == 0):\n",
    "    print(\"The year is a leap year\")\n",
    "else:\n",
    "    print(\"The year is not a leap year\")"
   ]
  },
  {
   "cell_type": "markdown",
   "id": "knowing-probability",
   "metadata": {},
   "source": [
    "## Problem 4\n",
    "### Make a simple calculator (function : +, -, * and /)\n",
    "Take three input from a user, say, input1, input2, input3\n",
    "<br>\n",
    "input 1 represents arithmetic sign ( +, -, * and /)\n",
    "<br>\n",
    "Input 2 and input 3 represent number\n",
    "<br>\n",
    "Display arithmetic output of input 2 and input 3 based on input 1"
   ]
  },
  {
   "cell_type": "code",
   "execution_count": 11,
   "id": "hollywood-thomson",
   "metadata": {},
   "outputs": [
    {
     "name": "stdout",
     "output_type": "stream",
     "text": [
      "Enter a number which is greater than 1: 10\n",
      "Enter a number which is greater than 1: 10\n",
      "Choose a math operation (+, -, *, //): +\n",
      "20\n"
     ]
    }
   ],
   "source": [
    "x = int(input(\"Enter a number which is greater than 1: \"))\n",
    "y = int(input(\"Enter a number which is greater than 1: \"))\n",
    "operator = input(\"Choose a math operation (+, -, *, //): \")\n",
    "if operator == \"+\":\n",
    "       print(x + y)\n",
    "elif operator == \"-\":\n",
    "       print (x - y)\n",
    "elif operator == \"*\":\n",
    "       print (x * y)\n",
    "elif operator == \"//\":\n",
    "        print(x / y)"
   ]
  },
  {
   "cell_type": "markdown",
   "id": "changed-classification",
   "metadata": {},
   "source": [
    "## Problem 5\n",
    "### Take a number from a user, check if the number is positive or negative or zero and display an appropriate message"
   ]
  },
  {
   "cell_type": "code",
   "execution_count": 12,
   "id": "false-parliament",
   "metadata": {},
   "outputs": [
    {
     "name": "stdout",
     "output_type": "stream",
     "text": [
      "Enter your number: 5\n",
      "Your Number is positive\n"
     ]
    }
   ],
   "source": [
    "num = int(input(\"Enter your number: \"))\n",
    "if num > 0:\n",
    "    print('Your Number is positive')\n",
    "elif num < 0:\n",
    "    print('Your Number is negative')\n",
    "elif num == 0:\n",
    "    print('You entered a zero')"
   ]
  },
  {
   "cell_type": "markdown",
   "id": "ahead-bermuda",
   "metadata": {},
   "source": [
    "## Problem 6\n",
    "### Take values of length and breadth of a rectangle from a user and check if it is square or not."
   ]
  },
  {
   "cell_type": "code",
   "execution_count": 13,
   "id": "missing-neighbor",
   "metadata": {},
   "outputs": [
    {
     "name": "stdout",
     "output_type": "stream",
     "text": [
      "Length of a rectangular: 5\n",
      "Breadth of a rectangular: 7\n",
      "It's a rectangular\n"
     ]
    }
   ],
   "source": [
    "x = int(input(\"Length of a rectangular: \"))\n",
    "y = int(input(\"Breadth of a rectangular: \"))\n",
    "if x == y:\n",
    "    print(\"It's a square\")\n",
    "else: \n",
    "    print(\"It's a rectangular\")"
   ]
  },
  {
   "cell_type": "markdown",
   "id": "breeding-jungle",
   "metadata": {},
   "source": [
    "## Problem 7\n",
    "### Take three int values from a user and display the highest and lowest number among them."
   ]
  },
  {
   "cell_type": "code",
   "execution_count": 14,
   "id": "architectural-module",
   "metadata": {},
   "outputs": [
    {
     "name": "stdout",
     "output_type": "stream",
     "text": [
      "Enter first number: 5\n",
      "Enter second number: 6\n",
      "Enter third number: 7\n",
      "The largest number is 7\n"
     ]
    }
   ],
   "source": [
    "x = int(input(\"Enter first number: \"))\n",
    "y = int(input(\"Enter second number: \"))\n",
    "z = int(input(\"Enter third number: \"))\n",
    "\n",
    "if (x >= y) and (x >= z):\n",
    "   largest = x\n",
    "elif (y >= x) and (y >= z):\n",
    "   largest = y\n",
    "else:\n",
    "   largest = z\n",
    "\n",
    "print(\"The largest number is\", largest)"
   ]
  },
  {
   "cell_type": "markdown",
   "id": "pharmaceutical-analyst",
   "metadata": {},
   "source": [
    "## Problem 8\n",
    "### Ask a user to enter marks and print the corresponding grade.\n",
    "Hints\n",
    "\n",
    "a. Below 30 - F\n",
    "<br>\n",
    "b. 30 to 35 - D\n",
    "<br>\n",
    "c. 35 to 40 - C\n",
    "<br>\n",
    "Grading should follow hstu grading structure"
   ]
  },
  {
   "cell_type": "code",
   "execution_count": 15,
   "id": "delayed-project",
   "metadata": {},
   "outputs": [
    {
     "name": "stdout",
     "output_type": "stream",
     "text": [
      "Enter marks: 38\n",
      "Your grade is C\n"
     ]
    }
   ],
   "source": [
    "x = int(input(\"Enter marks: \"))\n",
    "if x <= 30:\n",
    "    print('Your grade is F')\n",
    "elif x >= 30 and x <= 35:\n",
    "    print('Your grade is D')\n",
    "elif x >= 35 and x <= 40:\n",
    "    print('Your grade is C')"
   ]
  },
  {
   "cell_type": "code",
   "execution_count": null,
   "id": "passing-client",
   "metadata": {},
   "outputs": [],
   "source": []
  }
 ],
 "metadata": {
  "kernelspec": {
   "display_name": "Python 3",
   "language": "python",
   "name": "python3"
  },
  "language_info": {
   "codemirror_mode": {
    "name": "ipython",
    "version": 3
   },
   "file_extension": ".py",
   "mimetype": "text/x-python",
   "name": "python",
   "nbconvert_exporter": "python",
   "pygments_lexer": "ipython3",
   "version": "3.9.2"
  }
 },
 "nbformat": 4,
 "nbformat_minor": 5
}
